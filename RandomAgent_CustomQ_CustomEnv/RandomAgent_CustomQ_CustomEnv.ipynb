{
 "cells": [
  {
   "cell_type": "markdown",
   "metadata": {},
   "source": [
    "# RandomAgent Environment"
   ]
  },
  {
   "cell_type": "code",
   "execution_count": 1,
   "metadata": {},
   "outputs": [],
   "source": [
    "import gym\n",
    "from gym import error, spaces, utils\n",
    "from gym.utils import seeding\n",
    "\n",
    "from copy import deepcopy\n",
    "import numpy as np\n",
    "\n",
    "class RandomAgentEnv(gym.Env):\n",
    "    \n",
    "    def __init__(self,rows = 8 , cols = 8, num_agents = 4):\n",
    "        self.rows = rows\n",
    "        self.cols = cols\n",
    "        self.num_agents = num_agents\n",
    "        \n",
    "        self.start()\n",
    "        self.action_space = spaces.Discrete(4)\n",
    "        self.observation_space = self.observation()\n",
    "\n",
    "    def observation(self):\n",
    "        dist_list = []\n",
    "        dist_list.append(np.abs(self.rows - 1 - self.ai_pos[0])+np.abs(self.cols - 1 - self.ai_pos[1]))\n",
    "        for ag_pos in self.agent_pos:\n",
    "            dist_list.append((np.abs(ag_pos[0] - self.ai_pos[0])+np.abs(ag_pos[1] - self.ai_pos[1])))\n",
    "        # another state definition:return state.reshape(-1,self.rows,self.cols)\n",
    "        # return distance for each random agent and goals + position of all agents(this is helpful for calculate Q_values)         \n",
    "        return np.array(dist_list),(self.ai_pos,self.agent_pos)\n",
    "    \n",
    "    def load_env(self,ai_pos,agent_pos):\n",
    "        self.ai_pos = ai_pos\n",
    "        self.agent_pos = agent_pos\n",
    "        self.render_box()\n",
    "        \n",
    "            \n",
    "    def render_box(self):\n",
    "        self.box = np.zeros((self.rows,self.cols))\n",
    "        self.box[self.rows-1,self.cols-1] = 1/8\n",
    "        self.box[self.ai_pos[0],self.ai_pos[1]] = 1\n",
    "        for ag in self.agent_pos:\n",
    "            self.box[ag[0],ag[1]] = 2\n",
    "        return self.box\n",
    "\n",
    "    \n",
    "    def start(self):\n",
    "        self.ai_pos = np.array([0,0])\n",
    "        self.agent_pos = np.random.randint(2,self.rows-2,size=(self.num_agents,2))\n",
    "        self.render_box()\n",
    "\n",
    "    # move function:(handle up,right,left and down and return new position)    \n",
    "    def move(self,pos,action):\n",
    "        if action == 0: #right\n",
    "            new_pos = np.array([pos[0],min(pos[1]+1,self.rows-1)])\n",
    "        elif action == 1: #down\n",
    "            new_pos = np.array([min(pos[0]+1,self.cols-1),pos[1]])\n",
    "        elif action == 2: #left\n",
    "            new_pos = np.array([pos[0],max(pos[1]-1,0)])\n",
    "        elif action == 3: #up\n",
    "            new_pos = np.array([max(pos[0]-1,0),pos[1]])\n",
    "        else:\n",
    "            raise Exception(\"Invalid action.\")\n",
    "        return new_pos\n",
    "\n",
    "    def step(self, action):\n",
    "        \n",
    "        # Random Agents Move Handler\n",
    "        new_agent_pos = self.agent_pos.copy()\n",
    "        # random_agent_move = np.random.randint(0,4,size=self.num_agents)\n",
    "        # random movement just in rows:right and left         \n",
    "        random_agent_move = np.random.choice([0,2],size=self.num_agents)\n",
    "        for index,(ag,agent_action) in enumerate(zip(self.agent_pos,random_agent_move)):\n",
    "            new_ag = self.move(ag,agent_action)\n",
    "            new_agent_pos[index] = new_ag            \n",
    "        self.agent_pos = new_agent_pos.copy()\n",
    "        \n",
    "        # AI Move Handler\n",
    "        new_ai_pos = self.ai_pos.copy()\n",
    "        new_ai_pos = self.move(new_ai_pos,action)\n",
    "        self.ai_pos = new_ai_pos\n",
    "        \n",
    "        # Render Box\n",
    "        self.render_box()\n",
    "\n",
    "        # Handle reward         \n",
    "        reward = -1\n",
    "        is_terminal = False\n",
    "        # Check Collision With Random Agents         \n",
    "        for ag in self.agent_pos:\n",
    "            if ((self.ai_pos[0]==ag[0]) and (self.ai_pos[1]==ag[1])):\n",
    "                reward = -50.0\n",
    "                \n",
    "        # Check if ai arrived at goal or not\n",
    "        if ((self.ai_pos[0]==self.rows-1) and (self.ai_pos[1]==self.cols-1)):\n",
    "            is_terminal = True\n",
    "        return self.observation(), reward, is_terminal, {}\n",
    "\n",
    "    def reset(self):\n",
    "        self.start()\n",
    "        return self.observation()\n",
    "\n",
    "    def render(self, mode='human'):\n",
    "        pass\n",
    "\n",
    "    def close(self):\n",
    "        pass"
   ]
  },
  {
   "cell_type": "markdown",
   "metadata": {},
   "source": [
    "# Check Environment"
   ]
  },
  {
   "cell_type": "code",
   "execution_count": 2,
   "metadata": {},
   "outputs": [],
   "source": [
    "env = RandomAgentEnv()\n",
    "state,state_helper = env.reset()"
   ]
  },
  {
   "cell_type": "code",
   "execution_count": 3,
   "metadata": {},
   "outputs": [
    {
     "name": "stdout",
     "output_type": "stream",
     "text": [
      "state :[14  6  4 10  6]\n"
     ]
    }
   ],
   "source": [
    "# first number in array is the distance between ai and goal\n",
    "# and from the second number till the end , numbers are the distance between ai and other random agent\n",
    "print(\"state :%s\"%state)"
   ]
  },
  {
   "cell_type": "code",
   "execution_count": 4,
   "metadata": {},
   "outputs": [
    {
     "data": {
      "text/plain": [
       "(array([0, 0]), array([[2, 4],\n",
       "        [2, 2],\n",
       "        [5, 5],\n",
       "        [2, 4]]))"
      ]
     },
     "execution_count": 4,
     "metadata": {},
     "output_type": "execute_result"
    }
   ],
   "source": [
    "# position of ai and other random agent\n",
    "state_helper"
   ]
  },
  {
   "cell_type": "code",
   "execution_count": 6,
   "metadata": {},
   "outputs": [
    {
     "data": {
      "image/png": "[encoded data removed]",
      "text/plain": [
       "<Figure size 432x288 with 1 Axes>"
      ]
     },
     "metadata": {
      "needs_background": "light"
     },
     "output_type": "display_data"
    }
   ],
   "source": [
    "from matplotlib import pyplot as plt\n",
    "plt.imshow(env.render_box(), interpolation='nearest')\n",
    "plt.show()"
   ]
  },
  {
   "cell_type": "markdown",
   "metadata": {},
   "source": [
    "# Custom Q_function , Not Deep\n",
    "\n",
    "### Q_function,Parameterized\n",
    "- *we parameterized Q_function just with 3 params,check it below*\n",
    "\n",
    "$Q_{\\theta}(dist_{AI},dist_{agent_{i}}) = \\theta _{1}*dist_{AI} + \\sum _{i} (e ^{\\theta_{2} + \\theta_{3}*dist_{agent_{i}}})$\n",
    "\n",
    "- *we are trying to learn $\\theta _{1},\\theta_{2},\\theta_{3}$ with q_learning (or minimizing td loss) methods also for stabilize learning process,we use experience replay*\n",
    "\n",
    "- *The initial point for $\\theta$ is [0,0,0],plus we use torch tensor with cuda enabled ,for calculate gradient in gpu* "
   ]
  },
  {
   "cell_type": "code",
   "execution_count": 7,
   "metadata": {},
   "outputs": [],
   "source": [
    "# theta initial point\n",
    "import torch\n",
    "theta = torch.Tensor([0,0,0]).cuda().requires_grad_() "
   ]
  },
  {
   "cell_type": "markdown",
   "metadata": {},
   "source": [
    "# value_function and Q_function"
   ]
  },
  {
   "cell_type": "code",
   "execution_count": 8,
   "metadata": {},
   "outputs": [],
   "source": [
    "def value_function(state,theta):\n",
    "    value = theta[0]*state[0]\n",
    "    for s in state[1:]:\n",
    "        value -= torch.exp(theta[1]+theta[2]*s)\n",
    "    return value"
   ]
  },
  {
   "cell_type": "code",
   "execution_count": 9,
   "metadata": {},
   "outputs": [
    {
     "data": {
      "text/plain": [
       "tensor(-4., device='cuda:0', grad_fn=<SubBackward0>)"
      ]
     },
     "execution_count": 9,
     "metadata": {},
     "output_type": "execute_result"
    }
   ],
   "source": [
    "value = value_function(state,theta)\n",
    "value"
   ]
  },
  {
   "cell_type": "code",
   "execution_count": 10,
   "metadata": {},
   "outputs": [],
   "source": [
    "def Q_function(state_helper,theta):\n",
    "    ns = []\n",
    "    q_values = []\n",
    "    for a in range(env.action_space.n):\n",
    "        cop_env = RandomAgentEnv()\n",
    "        cop_env.load_env(state_helper[0],state_helper[1])\n",
    "        next_state_zip,_,_,_ = cop_env.step(a)\n",
    "        next_state = next_state_zip[0]\n",
    "        ns.append(next_state)\n",
    "        q_values.append(value_function(next_state,theta))\n",
    "    return q_values"
   ]
  },
  {
   "cell_type": "code",
   "execution_count": 11,
   "metadata": {},
   "outputs": [
    {
     "data": {
      "text/plain": [
       "[tensor(-4., device='cuda:0', grad_fn=<SubBackward0>),\n",
       " tensor(-4., device='cuda:0', grad_fn=<SubBackward0>),\n",
       " tensor(-4., device='cuda:0', grad_fn=<SubBackward0>),\n",
       " tensor(-4., device='cuda:0', grad_fn=<SubBackward0>)]"
      ]
     },
     "execution_count": 11,
     "metadata": {},
     "output_type": "execute_result"
    }
   ],
   "source": [
    "q_values = Q_function(state_helper,theta)\n",
    "q_values"
   ]
  },
  {
   "cell_type": "markdown",
   "metadata": {},
   "source": [
    "# e_greedy action selection"
   ]
  },
  {
   "cell_type": "code",
   "execution_count": 12,
   "metadata": {},
   "outputs": [],
   "source": [
    "import math, random\n",
    "def act(state_helper, theta,epsilon):\n",
    "    if random.random() > epsilon:\n",
    "        q_values = Q_function(state_helper,theta)\n",
    "        action  = torch.argmax(torch.Tensor(q_values)).item()\n",
    "    else:\n",
    "        action = random.randrange(env.action_space.n)\n",
    "    return action"
   ]
  },
  {
   "cell_type": "markdown",
   "metadata": {},
   "source": [
    "# Exprience Replay"
   ]
  },
  {
   "cell_type": "code",
   "execution_count": 13,
   "metadata": {},
   "outputs": [],
   "source": [
    "from collections import deque\n",
    "\n",
    "class ReplayBuffer(object):\n",
    "    def __init__(self, capacity):\n",
    "        self.buffer = deque(maxlen=capacity)\n",
    "    \n",
    "    def push(self, state,state_helper, action, reward, next_state,next_state_helper, done):\n",
    "        state      = np.expand_dims(state, 0)\n",
    "        next_state = np.expand_dims(next_state, 0)\n",
    "            \n",
    "        self.buffer.append((state,state_helper, action, reward, next_state,next_state_helper, done))\n",
    "    \n",
    "    def sample(self, batch_size):\n",
    "        state,state_helper, action, reward, next_state,next_state_helper, done = zip(*random.sample(self.buffer, batch_size))\n",
    "        return state,state_helper, action, reward, next_state,next_state_helper, done\n",
    "    \n",
    "    def __len__(self):\n",
    "        return len(self.buffer)"
   ]
  },
  {
   "cell_type": "markdown",
   "metadata": {},
   "source": [
    "# TD_Loss"
   ]
  },
  {
   "cell_type": "code",
   "execution_count": 14,
   "metadata": {},
   "outputs": [],
   "source": [
    "def compute_td_loss(batch_size,theta):\n",
    "    state,state_helper ,action, reward, next_state,next_state_helper, done = replay_buffer.sample(batch_size)\n",
    "\n",
    "    l = []\n",
    "    for s,sh,a,r,ns,nsh,d in zip(state,state_helper, action, reward, next_state,next_state_helper, done):\n",
    "        q_values = Q_function(sh,theta)\n",
    "        next_q_values = Q_function(nsh,theta)\n",
    "        q_next_max = torch.Tensor(next_q_values).max().item()\n",
    "        l.append((r+gamma*q_next_max*(1-d)-q_values[a])**2)\n",
    "    loss = torch.mean(torch.stack(l, dim=0))\n",
    "    return loss"
   ]
  },
  {
   "cell_type": "markdown",
   "metadata": {},
   "source": [
    "# Useful Plot func"
   ]
  },
  {
   "cell_type": "code",
   "execution_count": 15,
   "metadata": {},
   "outputs": [],
   "source": [
    "from IPython.display import clear_output\n",
    "import matplotlib.pyplot as plt\n",
    "%matplotlib inline\n",
    "def plot(frame_idx, rewards, losses, thetas):\n",
    "    clear_output(True)\n",
    "    plt.figure(figsize=(20,5))\n",
    "    plt.subplot(151)\n",
    "    plt.title('frame %s. reward: %s' % (frame_idx, np.mean(rewards[-10:])))\n",
    "    plt.plot(rewards)\n",
    "    plt.subplot(152)\n",
    "    plt.title('loss')\n",
    "    plt.plot(losses)\n",
    "    \n",
    "    if len(thetas) > 0:\n",
    "        plt.subplot(153)\n",
    "        plt.title('theta0')\n",
    "        plt.plot(np.vstack(all_thetas)[:,0])\n",
    "        plt.subplot(154)\n",
    "        plt.title('theta1,theta2')\n",
    "        plt.plot(np.vstack(all_thetas)[:,1])\n",
    "        plt.plot(np.vstack(all_thetas)[:,2])\n",
    "    plt.show()"
   ]
  },
  {
   "cell_type": "markdown",
   "metadata": {},
   "source": [
    "# epsilon decay func"
   ]
  },
  {
   "cell_type": "code",
   "execution_count": 16,
   "metadata": {},
   "outputs": [],
   "source": [
    "epsilon_start = 1.0\n",
    "epsilon_final = 0.01\n",
    "epsilon_decay = 10000\n",
    "\n",
    "epsilon_by_frame = lambda frame_idx: epsilon_final + (epsilon_start - epsilon_final) * math.exp(-1. * frame_idx / epsilon_decay)"
   ]
  },
  {
   "cell_type": "markdown",
   "metadata": {},
   "source": [
    "# Training Loop"
   ]
  },
  {
   "cell_type": "code",
   "execution_count": 17,
   "metadata": {
    "scrolled": true
   },
   "outputs": [
    {
     "data": {
      "image/png": "[encoded data removed]",
      "text/plain": [
       "<Figure size 1440x360 with 4 Axes>"
      ]
     },
     "metadata": {
      "needs_background": "light"
     },
     "output_type": "display_data"
    }
   ],
   "source": [
    "# num_frames = 50000\n",
    "num_frames = 20000\n",
    "batch_size = 32\n",
    "gamma      = 0.99\n",
    "lr = 0.00001\n",
    "\n",
    "all_thetas = []\n",
    "losses = []\n",
    "all_rewards = []\n",
    "all_values = []\n",
    "episode_reward = 0\n",
    "replay_buffer = ReplayBuffer(5000)\n",
    "state,state_helper = env.reset()\n",
    "theta = torch.Tensor([0,0,0]).cuda().requires_grad_() \n",
    "\n",
    "for frame_idx in range(0, num_frames + 1):\n",
    "    \n",
    "    epsilon = epsilon_by_frame(frame_idx)\n",
    "    action = act(state_helper, theta , epsilon)\n",
    "    \n",
    "    next_state_zip, reward, done, _ = env.step(action)\n",
    "    next_state = next_state_zip[0]\n",
    "    next_state_helper = next_state_zip[1]\n",
    "    replay_buffer.push(state,state_helper, action, reward, next_state,next_state_helper, done)\n",
    "    \n",
    "    state = next_state\n",
    "    state_helper = next_state_helper\n",
    "    episode_reward += reward\n",
    "    \n",
    "    if done:\n",
    "        state = env.reset()\n",
    "        all_rewards.append(episode_reward)\n",
    "        episode_reward = 0\n",
    "        \n",
    "    if len(replay_buffer) > 1000:\n",
    "        all_thetas.append(theta.cpu().detach().numpy())\n",
    "        loss = compute_td_loss(batch_size,theta)\n",
    "        loss.backward()\n",
    "        theta = theta - lr*theta.grad\n",
    "        theta = torch.Tensor(theta.cpu().data).cuda().requires_grad_()\n",
    "        losses.append(loss.data.item())\n",
    "        \n",
    "    if frame_idx % 100 == 0:\n",
    "        plot(frame_idx, all_rewards, losses,all_thetas)"
   ]
  },
  {
   "cell_type": "markdown",
   "metadata": {},
   "source": [
    "# Simulation And See What Happens!"
   ]
  },
  {
   "cell_type": "code",
   "execution_count": 18,
   "metadata": {},
   "outputs": [
    {
     "data": {
      "text/plain": [
       "tensor([-1.0806,  3.0053, -1.2920], device='cuda:0', requires_grad=True)"
      ]
     },
     "execution_count": 18,
     "metadata": {},
     "output_type": "execute_result"
    }
   ],
   "source": [
    "# trained theta\n",
    "theta"
   ]
  },
  {
   "cell_type": "code",
   "execution_count": 19,
   "metadata": {},
   "outputs": [],
   "source": [
    "def simulation(theta):\n",
    "    all_state = []\n",
    "    boxes = []\n",
    "    is_terminal = True\n",
    "    state,sh = env.reset()\n",
    "    episode_reward = 0\n",
    "    while is_terminal:\n",
    "        boxes.append(env.render_box())\n",
    "        all_state.append(sh)\n",
    "        action = act(sh, theta , 0.05)\n",
    "        next_state_zip, reward, done, _ = env.step(action)\n",
    "        \n",
    "    \n",
    "        sh = next_state_zip[1]\n",
    "        episode_reward += reward\n",
    "    \n",
    "        if done:\n",
    "            is_terminal = False\n",
    "    return episode_reward,boxes,all_state"
   ]
  },
  {
   "cell_type": "code",
   "execution_count": 20,
   "metadata": {},
   "outputs": [],
   "source": [
    "t_episode_reward,boxes,all_states = simulation(theta)"
   ]
  },
  {
   "cell_type": "code",
   "execution_count": 21,
   "metadata": {},
   "outputs": [
    {
     "name": "stdout",
     "output_type": "stream",
     "text": [
      "-32\n"
     ]
    }
   ],
   "source": [
    "len(boxes)\n",
    "print(t_episode_reward)"
   ]
  },
  {
   "cell_type": "markdown",
   "metadata": {},
   "source": [
    "# Create gif"
   ]
  },
  {
   "cell_type": "code",
   "execution_count": 22,
   "metadata": {},
   "outputs": [
    {
     "name": "stdout",
     "output_type": "stream",
     "text": [
      "-32\n"
     ]
    },
    {
     "name": "stderr",
     "output_type": "stream",
     "text": [
      "/home/migmig/anaconda3/envs/rl-env/lib/python3.6/site-packages/ipykernel_launcher.py:8: DeprecationWarning: `toimage` is deprecated!\n",
      "`toimage` is deprecated in SciPy 1.0.0, and will be removed in 1.2.0.\n",
      "Use Pillow's ``Image.fromarray`` directly instead.\n",
      "  \n"
     ]
    }
   ],
   "source": [
    "import scipy.misc\n",
    "import cv2\n",
    "import numpy as np\n",
    "print(t_episode_reward)\n",
    "for i,s in enumerate(boxes):\n",
    "    res = cv2.resize(s, dsize=(128, 128), interpolation=cv2.INTER_AREA)\n",
    "    # add your folders to save step by step frames of simulation     \n",
    "    scipy.misc.toimage(res, cmin=0.0, cmax=2.0).save('pics/%s.png'%i)"
   ]
  },
  {
   "cell_type": "code",
   "execution_count": null,
   "metadata": {},
   "outputs": [],
   "source": []
  }
 ],
 "metadata": {
  "kernelspec": {
   "display_name": "Python [conda env:rl-env]",
   "language": "python",
   "name": "conda-env-rl-env-py"
  },
  "language_info": {
   "codemirror_mode": {
    "name": "ipython",
    "version": 3
   },
   "file_extension": ".py",
   "mimetype": "text/x-python",
   "name": "python",
   "nbconvert_exporter": "python",
   "pygments_lexer": "ipython3",
   "version": "3.6.9"
  }
 },
 "nbformat": 4,
 "nbformat_minor": 4
}
